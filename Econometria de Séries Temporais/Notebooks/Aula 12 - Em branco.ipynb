{
  "nbformat": 4,
  "nbformat_minor": 0,
  "metadata": {
    "colab": {
      "provenance": []
    },
    "kernelspec": {
      "name": "ir",
      "display_name": "R"
    },
    "language_info": {
      "name": "R"
    }
  },
  "cells": [
    {
      "cell_type": "markdown",
      "source": [
        "# Econometria de Séries Temporais\n",
        "\n",
        "## Processos não estacionários, tendência estocástica e regressão espúria"
      ],
      "metadata": {
        "id": "HQnNo0C0HdkL"
      }
    },
    {
      "cell_type": "markdown",
      "source": [
        "João Ricardo Costa Filho \\\\\n",
        "[joaocostafilho.com](https://)"
      ],
      "metadata": {
        "id": "nPR8EWNkHvA0"
      }
    },
    {
      "cell_type": "markdown",
      "source": [
        "**Motivação**: \\\\\n",
        "\n",
        " Como estimar uma regra de política monetária (simplificada) para o Brasil?"
      ],
      "metadata": {
        "id": "jnitRNmF9vIR"
      }
    },
    {
      "cell_type": "markdown",
      "source": [
        "## Hiato do produto com tendência determinística"
      ],
      "metadata": {
        "id": "SzrTvTJufyd5"
      }
    },
    {
      "cell_type": "markdown",
      "source": [
        "Obtenha no SGS do Banco Central do Brasil a série do Índice de Atividade Econômica do Banco Central (IBC-Br) livre de efeitos sazonais."
      ],
      "metadata": {
        "id": "Mtwx2OIZO7d9"
      }
    },
    {
      "cell_type": "code",
      "source": [
        "# Baixar dados em CSV — série ajustada (24364)\n",
        "url_csv <- \"http://api.bcb.gov.br/dados/serie/bcdata.sgs.24364/dados?formato=csv\"\n",
        "ibc_br <- read.csv(url_csv, sep = \",\", dec = \".\", header = TRUE)"
      ],
      "metadata": {
        "id": "geTuh0Q9RjfK"
      },
      "execution_count": 1,
      "outputs": []
    },
    {
      "cell_type": "code",
      "source": [
        "head(ibc_br)"
      ],
      "metadata": {
        "id": "J8jZ1autnXdy",
        "outputId": "b97263b4-ae3c-4ece-bcbb-bb25adb0af41",
        "colab": {
          "base_uri": "https://localhost:8080/",
          "height": 286
        }
      },
      "execution_count": 2,
      "outputs": [
        {
          "output_type": "display_data",
          "data": {
            "text/html": [
              "<table class=\"dataframe\">\n",
              "<caption>A data.frame: 6 × 1</caption>\n",
              "<thead>\n",
              "\t<tr><th></th><th scope=col>data.valor</th></tr>\n",
              "\t<tr><th></th><th scope=col>&lt;chr&gt;</th></tr>\n",
              "</thead>\n",
              "<tbody>\n",
              "\t<tr><th scope=row>1</th><td>01/01/2003;70,50490</td></tr>\n",
              "\t<tr><th scope=row>2</th><td>01/02/2003;71,68170</td></tr>\n",
              "\t<tr><th scope=row>3</th><td>01/03/2003;71,35363</td></tr>\n",
              "\t<tr><th scope=row>4</th><td>01/04/2003;71,17270</td></tr>\n",
              "\t<tr><th scope=row>5</th><td>01/05/2003;70,12710</td></tr>\n",
              "\t<tr><th scope=row>6</th><td>01/06/2003;70,28393</td></tr>\n",
              "</tbody>\n",
              "</table>\n"
            ],
            "text/markdown": "\nA data.frame: 6 × 1\n\n| <!--/--> | data.valor &lt;chr&gt; |\n|---|---|\n| 1 | 01/01/2003;70,50490 |\n| 2 | 01/02/2003;71,68170 |\n| 3 | 01/03/2003;71,35363 |\n| 4 | 01/04/2003;71,17270 |\n| 5 | 01/05/2003;70,12710 |\n| 6 | 01/06/2003;70,28393 |\n\n",
            "text/latex": "A data.frame: 6 × 1\n\\begin{tabular}{r|l}\n  & data.valor\\\\\n  & <chr>\\\\\n\\hline\n\t1 & 01/01/2003;70,50490\\\\\n\t2 & 01/02/2003;71,68170\\\\\n\t3 & 01/03/2003;71,35363\\\\\n\t4 & 01/04/2003;71,17270\\\\\n\t5 & 01/05/2003;70,12710\\\\\n\t6 & 01/06/2003;70,28393\\\\\n\\end{tabular}\n",
            "text/plain": [
              "  data.valor         \n",
              "1 01/01/2003;70,50490\n",
              "2 01/02/2003;71,68170\n",
              "3 01/03/2003;71,35363\n",
              "4 01/04/2003;71,17270\n",
              "5 01/05/2003;70,12710\n",
              "6 01/06/2003;70,28393"
            ]
          },
          "metadata": {}
        }
      ]
    },
    {
      "cell_type": "code",
      "source": [
        "tail(ibc_br)"
      ],
      "metadata": {
        "id": "V9RTi-z1naX2",
        "outputId": "5bfb5356-a7a4-43c0-bb0e-0d5c5be2949b",
        "colab": {
          "base_uri": "https://localhost:8080/",
          "height": 286
        }
      },
      "execution_count": 3,
      "outputs": [
        {
          "output_type": "display_data",
          "data": {
            "text/html": [
              "<table class=\"dataframe\">\n",
              "<caption>A data.frame: 6 × 1</caption>\n",
              "<thead>\n",
              "\t<tr><th></th><th scope=col>data.valor</th></tr>\n",
              "\t<tr><th></th><th scope=col>&lt;chr&gt;</th></tr>\n",
              "</thead>\n",
              "<tbody>\n",
              "\t<tr><th scope=row>265</th><td>01/01/2025;108,34772</td></tr>\n",
              "\t<tr><th scope=row>266</th><td>01/02/2025;109,05409</td></tr>\n",
              "\t<tr><th scope=row>267</th><td>01/03/2025;109,78511</td></tr>\n",
              "\t<tr><th scope=row>268</th><td>01/04/2025;109,91207</td></tr>\n",
              "\t<tr><th scope=row>269</th><td>01/05/2025;109,12001</td></tr>\n",
              "\t<tr><th scope=row>270</th><td>01/06/2025;109,05915</td></tr>\n",
              "</tbody>\n",
              "</table>\n"
            ],
            "text/markdown": "\nA data.frame: 6 × 1\n\n| <!--/--> | data.valor &lt;chr&gt; |\n|---|---|\n| 265 | 01/01/2025;108,34772 |\n| 266 | 01/02/2025;109,05409 |\n| 267 | 01/03/2025;109,78511 |\n| 268 | 01/04/2025;109,91207 |\n| 269 | 01/05/2025;109,12001 |\n| 270 | 01/06/2025;109,05915 |\n\n",
            "text/latex": "A data.frame: 6 × 1\n\\begin{tabular}{r|l}\n  & data.valor\\\\\n  & <chr>\\\\\n\\hline\n\t265 & 01/01/2025;108,34772\\\\\n\t266 & 01/02/2025;109,05409\\\\\n\t267 & 01/03/2025;109,78511\\\\\n\t268 & 01/04/2025;109,91207\\\\\n\t269 & 01/05/2025;109,12001\\\\\n\t270 & 01/06/2025;109,05915\\\\\n\\end{tabular}\n",
            "text/plain": [
              "    data.valor          \n",
              "265 01/01/2025;108,34772\n",
              "266 01/02/2025;109,05409\n",
              "267 01/03/2025;109,78511\n",
              "268 01/04/2025;109,91207\n",
              "269 01/05/2025;109,12001\n",
              "270 01/06/2025;109,05915"
            ]
          },
          "metadata": {}
        }
      ]
    },
    {
      "cell_type": "markdown",
      "source": [
        "Faça um gráfico do IBC-BR:"
      ],
      "metadata": {
        "id": "frrIpr2FXbF5"
      }
    },
    {
      "cell_type": "code",
      "source": [
        "tmp <- do.call(rbind, strsplit(ibc_br[[1]], \";\", fixed = TRUE))\n",
        "ibc <- data.frame(data = as.Date(tmp[,1], \"%d/%m/%Y\"), valor = as.numeric(sub(\",\", \".\", tmp[,2], fixed = TRUE)))\n",
        "library(ggplot2)\n",
        "ggplot(ibc, aes(data, valor)) + geom_line(linewidth = 1) + labs(title=\"IBC-Br (ajustado)\", x=\"Data\", y=\"Índice\")\n"
      ],
      "metadata": {
        "id": "LroqlpITxpKa",
        "outputId": "4a2858e8-87e7-4bd8-f791-741786ddbc58",
        "colab": {
          "base_uri": "https://localhost:8080/",
          "height": 437
        }
      },
      "execution_count": 8,
      "outputs": [
        {
          "output_type": "display_data",
          "data": {
            "text/plain": [
              "plot without title"
            ],
            "image/png": "[encoded data removed]"
          },
          "metadata": {
            "image/png": {
              "width": 420,
              "height": 420
            }
          }
        }
      ]
    },
    {
      "cell_type": "markdown",
      "source": [
        "Crie um objeto para o 'tempo' que seja uma sequência que se inicia no valor um e tem o mesmo número de observações que os dados do IBC-Br."
      ],
      "metadata": {
        "id": "NrPV90mu32ZL"
      }
    },
    {
      "cell_type": "code",
      "source": [
        "tempo <- 1:nrow(ibc)"
      ],
      "metadata": {
        "id": "wyIZiTvO2McD"
      },
      "execution_count": 10,
      "outputs": []
    },
    {
      "cell_type": "markdown",
      "source": [
        "Agora, crie um objeto que é o quadrado do objeto anterior:"
      ],
      "metadata": {
        "id": "Lg6zLcXh8EDW"
      }
    },
    {
      "cell_type": "code",
      "source": [
        "tempo2 <- tempo^2"
      ],
      "metadata": {
        "id": "IDVJPCeT8d-A"
      },
      "execution_count": 12,
      "outputs": []
    },
    {
      "cell_type": "markdown",
      "source": [
        "Faça uma regressão linear do IBC-Br no tempo:"
      ],
      "metadata": {
        "id": "0tWJfoUR4BcE"
      }
    },
    {
      "cell_type": "code",
      "source": [
        "reg <- lm(ibc$valor ~ tempo)\n",
        "summary(reg)\n"
      ],
      "metadata": {
        "id": "Wi_yjvzVOB1m",
        "outputId": "c3c3313f-4b9e-45ac-ccf9-1a7ab15ef5cc",
        "colab": {
          "base_uri": "https://localhost:8080/",
          "height": 329
        }
      },
      "execution_count": 18,
      "outputs": [
        {
          "output_type": "display_data",
          "data": {
            "text/plain": [
              "\n",
              "Call:\n",
              "lm(formula = ibc$valor ~ tempo)\n",
              "\n",
              "Residuals:\n",
              "    Min      1Q  Median      3Q     Max \n",
              "-17.739  -3.749  -1.663   4.561  11.152 \n",
              "\n",
              "Coefficients:\n",
              "             Estimate Std. Error t value Pr(>|t|)    \n",
              "(Intercept) 80.173274   0.713263  112.40   <2e-16 ***\n",
              "tempo        0.099615   0.004563   21.83   <2e-16 ***\n",
              "---\n",
              "Signif. codes:  0 ‘***’ 0.001 ‘**’ 0.01 ‘*’ 0.05 ‘.’ 0.1 ‘ ’ 1\n",
              "\n",
              "Residual standard error: 5.844 on 268 degrees of freedom\n",
              "Multiple R-squared:  0.6401,\tAdjusted R-squared:  0.6387 \n",
              "F-statistic: 476.6 on 1 and 268 DF,  p-value: < 2.2e-16\n"
            ]
          },
          "metadata": {}
        }
      ]
    },
    {
      "cell_type": "code",
      "source": [],
      "metadata": {
        "id": "JmOPi0tKrflK"
      },
      "execution_count": null,
      "outputs": []
    },
    {
      "cell_type": "code",
      "source": [],
      "metadata": {
        "id": "aIKhMyd7qvK4"
      },
      "execution_count": null,
      "outputs": []
    },
    {
      "cell_type": "markdown",
      "source": [
        "Crie um objeto com a tendência (que é obtida com os valores previstos, 'fitted'; por exemplo, se o objeto da sua regressão foi denominado 'reg', utilize 'reg$fitted.values')."
      ],
      "metadata": {
        "id": "juWO3YBc4m9b"
      }
    },
    {
      "cell_type": "code",
      "source": [
        "tendencia <- reg$fitted.values"
      ],
      "metadata": {
        "id": "-idhygDD2pp8"
      },
      "execution_count": 19,
      "outputs": []
    },
    {
      "cell_type": "markdown",
      "source": [
        "Crie um objeto com a flutuação:"
      ],
      "metadata": {
        "id": "gWoTuUxt49x9"
      }
    },
    {
      "cell_type": "code",
      "source": [
        "flutuacao <- reg$residuals"
      ],
      "metadata": {
        "id": "dH0l1pkQ27Ki"
      },
      "execution_count": 20,
      "outputs": []
    },
    {
      "cell_type": "markdown",
      "source": [
        "Faça um gráfico do hiato do produto:"
      ],
      "metadata": {
        "id": "PtkLUMmw5BkD"
      }
    },
    {
      "cell_type": "code",
      "source": [
        "ggplot(ibc, aes(x = data, y = flutuacao)) +\n",
        "  geom_hline(yintercept = 0, color = \"black\", linewidth = 0.7, linetype = \"dashed\") +\n",
        "  geom_line(color = \"darkred\", linewidth = 1) +\n",
        "  labs(\n",
        "    title = \"Hiato do Produto\",\n",
        "    subtitle = \"Diferença entre o IBC-Br observado e a tendência estimada\",\n",
        "    x = \"Data\",\n",
        "    y = \"Hiato (Desvio em relação à tendência)\",\n",
        "    caption = \"Fonte: Banco Central do Brasil / Elaboração própria\"\n",
        "  ) +\n",
        "  theme_minimal(base_size = 14)"
      ],
      "metadata": {
        "id": "LX3WoRb7-X16",
        "outputId": "64838e67-a309-4e5a-a815-c5e67c656f94",
        "colab": {
          "base_uri": "https://localhost:8080/",
          "height": 437
        }
      },
      "execution_count": 21,
      "outputs": [
        {
          "output_type": "display_data",
          "data": {
            "text/plain": [
              "plot without title"
            ],
            "image/png": "[encoded data removed]"
          },
          "metadata": {
            "image/png": {
              "width": 420,
              "height": 420
            }
          }
        }
      ]
    },
    {
      "cell_type": "markdown",
      "source": [
        "Faça o mesmo procedimento, mas para a tendência quadrática (considere na regressão tanto o tempo ($t$) quanto o seu valor ao quadrado ($t^2$):"
      ],
      "metadata": {
        "id": "0ulvl-2B5Kes"
      }
    },
    {
      "cell_type": "code",
      "source": [],
      "metadata": {
        "id": "Exr4-AoJ31cw"
      },
      "execution_count": null,
      "outputs": []
    },
    {
      "cell_type": "code",
      "source": [],
      "metadata": {
        "id": "vB8KWip535pN"
      },
      "execution_count": null,
      "outputs": []
    },
    {
      "cell_type": "code",
      "source": [],
      "metadata": {
        "id": "UfeTluT9-qTw"
      },
      "execution_count": null,
      "outputs": []
    },
    {
      "cell_type": "code",
      "source": [],
      "metadata": {
        "id": "h6e-Wtn139Cr"
      },
      "execution_count": null,
      "outputs": []
    },
    {
      "cell_type": "code",
      "source": [],
      "metadata": {
        "id": "rRQNkpPU4GJ5"
      },
      "execution_count": null,
      "outputs": []
    },
    {
      "cell_type": "markdown",
      "source": [
        "## Passeios aleatórios"
      ],
      "metadata": {
        "id": "ThgG0S6mOPdG"
      }
    },
    {
      "cell_type": "markdown",
      "source": [
        "Simule uma série que seja um passeio aleatório:"
      ],
      "metadata": {
        "id": "K77t8xYxHvWr"
      }
    },
    {
      "cell_type": "code",
      "source": [
        "RW <- arima.sim(model= list(order = c(0, 1, 0)), n=200)"
      ],
      "metadata": {
        "id": "exrDTEmdMW4j"
      },
      "execution_count": null,
      "outputs": []
    },
    {
      "cell_type": "markdown",
      "source": [
        "Faça um gráfico do passeio aleatório ao longo do tempo:"
      ],
      "metadata": {
        "id": "z5pmZorz5YMj"
      }
    },
    {
      "cell_type": "code",
      "source": [],
      "metadata": {
        "id": "-hGGUY_XNFZs"
      },
      "execution_count": null,
      "outputs": []
    },
    {
      "cell_type": "code",
      "source": [],
      "metadata": {
        "id": "72jziY4q6JUG"
      },
      "execution_count": null,
      "outputs": []
    },
    {
      "cell_type": "markdown",
      "source": [
        "Simule uma série que seja um passeio aleatório com drift:"
      ],
      "metadata": {
        "id": "3tBenXeZ5w_8"
      }
    },
    {
      "cell_type": "code",
      "source": [
        "RW_drift <- arima.sim(model= list(order = c(0, 1, 0)), n=200, mean=1,sd=5)"
      ],
      "metadata": {
        "id": "hN77SiAMMjlI"
      },
      "execution_count": null,
      "outputs": []
    },
    {
      "cell_type": "markdown",
      "source": [
        "Faça um gráfico do passeio aleatório com drift ao longo do tempo:"
      ],
      "metadata": {
        "id": "z2B0mgA05-xc"
      }
    },
    {
      "cell_type": "code",
      "source": [],
      "metadata": {
        "id": "E2Vs52qYM2TI"
      },
      "execution_count": null,
      "outputs": []
    },
    {
      "cell_type": "code",
      "source": [],
      "metadata": {
        "id": "w3tYnmXX6XjJ"
      },
      "execution_count": null,
      "outputs": []
    },
    {
      "cell_type": "markdown",
      "source": [
        "## Correlação Espúria"
      ],
      "metadata": {
        "id": "r5ECmJRg_5DV"
      }
    },
    {
      "cell_type": "markdown",
      "source": [
        "Código adaptado do capítulo 4 de Pfaff (2008)"
      ],
      "metadata": {
        "id": "o1LqqPZd__yD"
      }
    },
    {
      "cell_type": "code",
      "source": [
        "set.seed (1301)                     # 'seed' para gerarmos o mesmos números pseudo-aleatórios\n",
        "\n",
        "ex = rnorm (100)                    # erros da variável X\n",
        "ey = rnorm (100)                    # erros da variável Y\n",
        "\n",
        "t  = 1:100\n",
        "\n",
        "X  = 0.9 * t + cumsum( ex )\n",
        "Y  = 0.5 * t + cumsum( ey )"
      ],
      "metadata": {
        "id": "cGcN8yQ8_7Lh"
      },
      "execution_count": null,
      "outputs": []
    },
    {
      "cell_type": "code",
      "source": [
        "data <- data.frame( t, Y, X )\n",
        "\n",
        "ggplot(data) + geom_line(aes(x = t, y =  Y ), linewidth = 1.5, colour = \"darkred\") +\n",
        "geom_line(aes(x = t, y =  X ), linewidth = 1.5, colour = \"darkblue\") +\n",
        "  theme_classic() + labs(x = \"\", y=\"\") +  theme(aspect.ratio=1)"
      ],
      "metadata": {
        "id": "o5-TQFMa_9GA"
      },
      "execution_count": null,
      "outputs": []
    },
    {
      "cell_type": "code",
      "source": [
        "reg <- lm( Y ~ X )\n",
        "summary( reg )"
      ],
      "metadata": {
        "id": "-qGtpjrVAC0u"
      },
      "execution_count": null,
      "outputs": []
    },
    {
      "cell_type": "code",
      "source": [
        "install.packages(\"lmtest\", quiet = TRUE)\n",
        "library(lmtest)"
      ],
      "metadata": {
        "id": "_jpFV5qZAFgC"
      },
      "execution_count": null,
      "outputs": []
    },
    {
      "cell_type": "code",
      "source": [
        "dwtest( reg )$statistic"
      ],
      "metadata": {
        "id": "LkVpMzs9AHe3"
      },
      "execution_count": null,
      "outputs": []
    },
    {
      "cell_type": "markdown",
      "source": [
        "# Regra de política monetária (bem simplificada)"
      ],
      "metadata": {
        "id": "sUdakBLiNUbH"
      }
    },
    {
      "cell_type": "markdown",
      "source": [
        "Vamos considerar uma regra de política monetária bem simplificada. Para isso, obtenha junto ao SGS do BCB os dados da Taxa Selic e da Taxa de inflação acumulada em 12 meses."
      ],
      "metadata": {
        "id": "JFNK-Q-k6Xs8"
      }
    },
    {
      "cell_type": "markdown",
      "source": [
        "### Taxa Selic"
      ],
      "metadata": {
        "id": "PAT0aN_mAONn"
      }
    },
    {
      "cell_type": "code",
      "source": [],
      "metadata": {
        "colab": {
          "base_uri": "https://localhost:8080/"
        },
        "id": "-hcVmImCAm38",
        "outputId": "7d8694fc-608f-4be0-ad43-fe2e78715262"
      },
      "execution_count": null,
      "outputs": [
        {
          "output_type": "stream",
          "name": "stderr",
          "text": [
            "Installing package into ‘/usr/local/lib/R/site-library’\n",
            "(as ‘lib’ is unspecified)\n",
            "\n"
          ]
        }
      ]
    },
    {
      "cell_type": "code",
      "source": [],
      "metadata": {
        "id": "NOdnf6t9Aojk"
      },
      "execution_count": null,
      "outputs": []
    },
    {
      "cell_type": "code",
      "source": [],
      "metadata": {
        "id": "sNZ_gplrAR5C"
      },
      "execution_count": null,
      "outputs": []
    },
    {
      "cell_type": "code",
      "source": [],
      "metadata": {
        "id": "NA56aJwkATbR"
      },
      "execution_count": null,
      "outputs": []
    },
    {
      "cell_type": "code",
      "source": [],
      "metadata": {
        "id": "0OuZttry7UDB"
      },
      "execution_count": null,
      "outputs": []
    },
    {
      "cell_type": "code",
      "source": [],
      "metadata": {
        "id": "M2Y_ft9_AWWa"
      },
      "execution_count": null,
      "outputs": []
    },
    {
      "cell_type": "markdown",
      "source": [
        "### Taxa de inflação acumulada em 12 meses"
      ],
      "metadata": {
        "id": "PVtfC1_lAdCj"
      }
    },
    {
      "cell_type": "code",
      "source": [],
      "metadata": {
        "id": "rJQ0qRPhAd63"
      },
      "execution_count": null,
      "outputs": []
    },
    {
      "cell_type": "code",
      "source": [],
      "metadata": {
        "id": "nYNNjTVCAf3i"
      },
      "execution_count": null,
      "outputs": []
    },
    {
      "cell_type": "code",
      "source": [],
      "metadata": {
        "id": "tf55SOuV9-fV"
      },
      "execution_count": null,
      "outputs": []
    },
    {
      "cell_type": "code",
      "source": [],
      "metadata": {
        "id": "A6Dykh7v-By9"
      },
      "execution_count": null,
      "outputs": []
    },
    {
      "cell_type": "markdown",
      "source": [
        "## Regressão linear"
      ],
      "metadata": {
        "id": "cqOd6AFoYHT7"
      }
    },
    {
      "cell_type": "markdown",
      "source": [
        "Faça uma regressão linear da taxa Selic no IPCA acumulado em 12 meses e no hiato do produto:"
      ],
      "metadata": {
        "id": "jvmuqMJl6r-L"
      }
    },
    {
      "cell_type": "code",
      "source": [],
      "metadata": {
        "id": "JK_P3q6u72b8"
      },
      "execution_count": null,
      "outputs": []
    },
    {
      "cell_type": "code",
      "source": [],
      "metadata": {
        "id": "438TYyx68xRp"
      },
      "execution_count": null,
      "outputs": []
    },
    {
      "cell_type": "code",
      "source": [],
      "metadata": {
        "id": "sZHe1s4D8523"
      },
      "execution_count": null,
      "outputs": []
    },
    {
      "cell_type": "markdown",
      "source": [
        "Se o hiato for zero e a inflação acumulada estiver na meta, qual é o valor que eu devo esperar para a taxa Selic?"
      ],
      "metadata": {
        "id": "eGyPpDaC-4sv"
      }
    },
    {
      "cell_type": "code",
      "source": [],
      "metadata": {
        "id": "hJ5zFtbB_AiL"
      },
      "execution_count": null,
      "outputs": []
    },
    {
      "cell_type": "markdown",
      "source": [
        "Se o hiato for de 1,5% e a inflação acumulada estiver em 4,6%, qual é o valor que eu devo esperar para a taxa Selic?"
      ],
      "metadata": {
        "id": "jFaMiscV91aJ"
      }
    },
    {
      "cell_type": "code",
      "source": [],
      "metadata": {
        "id": "TFBxf0DB912j"
      },
      "execution_count": null,
      "outputs": []
    }
  ]
}